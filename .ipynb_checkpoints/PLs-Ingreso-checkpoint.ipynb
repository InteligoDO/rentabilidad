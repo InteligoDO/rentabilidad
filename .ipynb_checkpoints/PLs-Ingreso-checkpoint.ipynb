{
 "cells": [
  {
   "cell_type": "code",
   "execution_count": 1,
   "metadata": {},
   "outputs": [
    {
     "data": {
      "text/html": [
       "<style>.container { width:95% !important; }</style>"
      ],
      "text/plain": [
       "<IPython.core.display.HTML object>"
      ]
     },
     "metadata": {},
     "output_type": "display_data"
    },
    {
     "name": "stderr",
     "output_type": "stream",
     "text": [
      "C:\\Users\\Inteligo\\anaconda3.2\\lib\\site-packages\\sklearn\\utils\\deprecation.py:144: FutureWarning: The sklearn.datasets.samples_generator module is  deprecated in version 0.22 and will be removed in version 0.24. The corresponding classes / functions should instead be imported from sklearn.datasets. Anything that cannot be imported from sklearn.datasets is now part of the private API.\n",
      "  warnings.warn(message, FutureWarning)\n"
     ]
    }
   ],
   "source": [
    "from IPython.core.display import display, HTML\n",
    "display(HTML(\"<style>.container { width:95% !important; }</style>\"))\n",
    "\n",
    "import pandas as pd\n",
    "\n",
    "import math\n",
    "import re, os, csv, sys, time, fnmatch, shutil, glob\n",
    "from os import listdir\n",
    "from os.path import isfile, join\n",
    "from os import chdir, getcwd, path\n",
    "import json, random, argparse\n",
    "import io, pickle, codecs\n",
    "import networkx as nx, builtins\n",
    "from shutil import copyfile\n",
    "import xlrd\n",
    "import xlwings as xw\n",
    "import numpy as np\n",
    "import seaborn as sns\n",
    "import pyodbc\n",
    "\n",
    "%matplotlib inline\n",
    "\n",
    "import matplotlib\n",
    "import matplotlib.pyplot as plt\n",
    "import seaborn as sns\n",
    "from sklearn.cluster import KMeans\n",
    "from sklearn.metrics import pairwise_distances_argmin_min\n",
    "from sklearn.datasets.samples_generator import make_blobs\n",
    "from sklearn import preprocessing\n",
    "from kmodes.kmodes import KModes\n",
    "\n",
    "from matplotlib.pyplot import figure    \n",
    "from mpl_toolkits.mplot3d import Axes3D\n",
    "plt.rcParams['figure.figsize'] = (10, 5)\n",
    "\n",
    "from matplotlib import rcParams\n",
    "rcParams['font.family'] = 'sans-serif'\n",
    "rcParams['font.sans-serif'] = ['Tahoma']"
   ]
  },
  {
   "cell_type": "code",
   "execution_count": 3,
   "metadata": {},
   "outputs": [
    {
     "data": {
      "text/plain": [
       "['SQL Server',\n",
       " 'SQL Server Native Client 11.0',\n",
       " 'ODBC Driver 13 for SQL Server',\n",
       " 'ODBC Driver 11 for SQL Server',\n",
       " 'Microsoft Access Driver (*.mdb, *.accdb)',\n",
       " 'Microsoft Excel Driver (*.xls, *.xlsx, *.xlsm, *.xlsb)',\n",
       " 'Microsoft Access Text Driver (*.txt, *.csv)']"
      ]
     },
     "execution_count": 3,
     "metadata": {},
     "output_type": "execute_result"
    }
   ],
   "source": [
    "pyodbc.drivers()"
   ]
  },
  {
   "cell_type": "code",
   "execution_count": 79,
   "metadata": {},
   "outputs": [],
   "source": [
    "# Specifying the ODBC driver, server name, database, etc. directly\n",
    "cnxn = pyodbc.connect('DRIVER={ODBC Driver 13 for SQL Server};SERVER=172.17.6.184;DATABASE=GDI_LIVE;UID=USR_DO;PWD=Inteligo2021')\n",
    "\n",
    "# Using a DSN, but providing a password as well\n",
    "# cnxn = pyodbc.connect('DSN=test;PWD=password')\n",
    "\n",
    "# Create a cursor from the connection\n",
    "cursor = cnxn.cursor()"
   ]
  },
  {
   "cell_type": "code",
   "execution_count": 6,
   "metadata": {},
   "outputs": [],
   "source": [
    "qTipoIngreso = ('''SELECT *\n",
    "  FROM [172.18.10.62].[DWHINTELIGO].[dbo].[Lk_TipoIngreso]''')"
   ]
  },
  {
   "cell_type": "code",
   "execution_count": 7,
   "metadata": {},
   "outputs": [],
   "source": [
    "dfTipoIngreso = pd.read_sql(qTipoIngreso, cnxn)"
   ]
  },
  {
   "cell_type": "code",
   "execution_count": 9,
   "metadata": {},
   "outputs": [],
   "source": [
    "# PL 51000 Interest Income por cliente, el monto en cliente cero es poco\n",
    "qIngIntPL51000 = ('''SELECT TbClientes.Cod_Cliente, LEFT(TbIngreso.Id_Dia,4) AS Anho, LEFT(RIGHT(TbIngreso.Id_Dia,4),2) AS Mes, TbIngreso.*\n",
    "                            FROM\n",
    "                            [172.18.10.62].[DWHINTELIGO].[dbo].[Ft_Ingreso] as TbIngreso,\n",
    "                            [172.18.10.62].[DWHINTELIGO].[dbo].[Lk_Cliente] as TbClientes\n",
    "                            WHERE\n",
    "                                (TbIngreso.Id_Cliente = TbClientes.Id_Cliente and TbIngreso.id_ComponenteIngreso = 6\n",
    "                                 and LEFT(TbIngreso.Id_Dia,4) = 2020)\n",
    "                            ORDER BY\n",
    "                                TbClientes.Cod_Cliente ASC''')"
   ]
  },
  {
   "cell_type": "code",
   "execution_count": 10,
   "metadata": {},
   "outputs": [],
   "source": [
    "dfIngIntPL51000 = pd.read_sql(qIngIntPL51000, cnxn)"
   ]
  },
  {
   "cell_type": "code",
   "execution_count": 82,
   "metadata": {},
   "outputs": [],
   "source": [
    "cnxn = pyodbc.connect('DRIVER={ODBC Driver 13 for SQL Server};SERVER=172.17.6.184;DATABASE=GDI_LIVE;UID=USR_DO;PWD=Inteligo2021')\n",
    "cursor = cnxn.cursor()"
   ]
  },
  {
   "cell_type": "code",
   "execution_count": 83,
   "metadata": {},
   "outputs": [],
   "source": [
    "# PL 51997 Interest Income - Overdraft por sector\n",
    "qIngIntPL51997 = ('''SELECT TbClientes.Cod_Cliente, LEFT(TbIngreso.Id_Dia,4) AS Anho, LEFT(RIGHT(TbIngreso.Id_Dia,4),2) AS Mes, TbIngreso.*\n",
    "                            FROM\n",
    "                            [172.18.10.62].[DWHINTELIGO].[dbo].[Ft_Ingreso] as TbIngreso,\n",
    "                            [172.18.10.62].[DWHINTELIGO].[dbo].[Lk_Cliente] as TbClientes\n",
    "                            WHERE\n",
    "                                (TbIngreso.Id_Cliente = TbClientes.Id_Cliente and TbIngreso.id_ComponenteIngreso = 17\n",
    "                                 and LEFT(TbIngreso.Id_Dia,4) = 2020)\n",
    "                            ORDER BY\n",
    "                                TbClientes.Cod_Cliente ASC''')"
   ]
  },
  {
   "cell_type": "code",
   "execution_count": 84,
   "metadata": {},
   "outputs": [],
   "source": [
    "dfIngIntPL51997 = pd.read_sql(qIngIntPL51997, cnxn)"
   ]
  },
  {
   "cell_type": "code",
   "execution_count": 96,
   "metadata": {},
   "outputs": [],
   "source": [
    "# table money market for pl 51997"
   ]
  },
  {
   "cell_type": "code",
   "execution_count": null,
   "metadata": {},
   "outputs": [],
   "source": [
    "cnxn = pyodbc.connect('DRIVER={ODBC Driver 13 for SQL Server};SERVER=172.17.6.184;DATABASE=GDI_LIVE;UID=USR_DO;PWD=Inteligo2021')\n",
    "cursor = cnxn.cursor()"
   ]
  },
  {
   "cell_type": "markdown",
   "metadata": {},
   "source": [
    "### PLs grouped by costumers"
   ]
  },
  {
   "cell_type": "code",
   "execution_count": 75,
   "metadata": {},
   "outputs": [],
   "source": [
    "# run from here down"
   ]
  },
  {
   "attachments": {},
   "cell_type": "markdown",
   "metadata": {},
   "source": [
    "###### PL ingreso por interes 51000 - Interest Income"
   ]
  },
  {
   "cell_type": "code",
   "execution_count": 71,
   "metadata": {},
   "outputs": [],
   "source": [
    "dfIngIntPL51000ByCli = dfIngIntPL51000.groupby(['Cod_Cliente', 'Mes'], as_index=False).agg({'Id_Cliente': 'first','Ingreso': 'sum',})"
   ]
  },
  {
   "cell_type": "code",
   "execution_count": 72,
   "metadata": {},
   "outputs": [],
   "source": [
    "dfIngIntPL51000ByCli = dfIngIntPL51000ByCli.pivot_table(index=['Cod_Cliente'], columns='Mes', values='Ingreso').reset_index()"
   ]
  },
  {
   "cell_type": "code",
   "execution_count": 73,
   "metadata": {},
   "outputs": [],
   "source": [
    "dfIngIntPL51000ByCli['num_meses_ing_51000'] = dfIngIntPL51000ByCli.apply(lambda x: x.iloc[1:] .count(), axis=1)\n",
    "dfIngIntPL51000ByCli['total_51000'] = dfIngIntPL51000ByCli.apply(lambda x: x.iloc[1:-1] .sum(), axis=1)"
   ]
  },
  {
   "cell_type": "code",
   "execution_count": 74,
   "metadata": {},
   "outputs": [
    {
     "data": {
      "text/html": [
       "<div>\n",
       "<style scoped>\n",
       "    .dataframe tbody tr th:only-of-type {\n",
       "        vertical-align: middle;\n",
       "    }\n",
       "\n",
       "    .dataframe tbody tr th {\n",
       "        vertical-align: top;\n",
       "    }\n",
       "\n",
       "    .dataframe thead th {\n",
       "        text-align: right;\n",
       "    }\n",
       "</style>\n",
       "<table border=\"1\" class=\"dataframe\">\n",
       "  <thead>\n",
       "    <tr style=\"text-align: right;\">\n",
       "      <th>Mes</th>\n",
       "      <th>Cod_Cliente</th>\n",
       "      <th>01</th>\n",
       "      <th>02</th>\n",
       "      <th>03</th>\n",
       "      <th>04</th>\n",
       "      <th>05</th>\n",
       "      <th>06</th>\n",
       "      <th>07</th>\n",
       "      <th>08</th>\n",
       "      <th>09</th>\n",
       "      <th>10</th>\n",
       "      <th>11</th>\n",
       "      <th>12</th>\n",
       "      <th>num_meses_ing_51000</th>\n",
       "      <th>total_51000</th>\n",
       "    </tr>\n",
       "  </thead>\n",
       "  <tbody>\n",
       "    <tr>\n",
       "      <th>0</th>\n",
       "      <td>0</td>\n",
       "      <td>34738.30</td>\n",
       "      <td>34064.65</td>\n",
       "      <td>42730.66</td>\n",
       "      <td>53605.79</td>\n",
       "      <td>111911.52</td>\n",
       "      <td>49291.54</td>\n",
       "      <td>22026.93</td>\n",
       "      <td>55074.52</td>\n",
       "      <td>217580.76</td>\n",
       "      <td>13423.71</td>\n",
       "      <td>58208.68</td>\n",
       "      <td>218764.20</td>\n",
       "      <td>12</td>\n",
       "      <td>911421.26</td>\n",
       "    </tr>\n",
       "    <tr>\n",
       "      <th>1</th>\n",
       "      <td>10017</td>\n",
       "      <td>422.80</td>\n",
       "      <td>395.52</td>\n",
       "      <td>422.80</td>\n",
       "      <td>405.80</td>\n",
       "      <td>319.46</td>\n",
       "      <td>271.07</td>\n",
       "      <td>267.79</td>\n",
       "      <td>267.79</td>\n",
       "      <td>259.16</td>\n",
       "      <td>282.79</td>\n",
       "      <td>334.16</td>\n",
       "      <td>345.29</td>\n",
       "      <td>12</td>\n",
       "      <td>3994.43</td>\n",
       "    </tr>\n",
       "    <tr>\n",
       "      <th>2</th>\n",
       "      <td>10025</td>\n",
       "      <td>78759.38</td>\n",
       "      <td>73678.13</td>\n",
       "      <td>67467.72</td>\n",
       "      <td>59281.25</td>\n",
       "      <td>80257.30</td>\n",
       "      <td>88714.54</td>\n",
       "      <td>67323.96</td>\n",
       "      <td>61257.30</td>\n",
       "      <td>59281.25</td>\n",
       "      <td>61257.30</td>\n",
       "      <td>59281.25</td>\n",
       "      <td>63394.59</td>\n",
       "      <td>12</td>\n",
       "      <td>819953.97</td>\n",
       "    </tr>\n",
       "    <tr>\n",
       "      <th>3</th>\n",
       "      <td>10031</td>\n",
       "      <td>18241.87</td>\n",
       "      <td>17146.71</td>\n",
       "      <td>14647.90</td>\n",
       "      <td>11875.15</td>\n",
       "      <td>12251.98</td>\n",
       "      <td>11856.79</td>\n",
       "      <td>12252.07</td>\n",
       "      <td>12252.01</td>\n",
       "      <td>11856.77</td>\n",
       "      <td>12252.07</td>\n",
       "      <td>11856.82</td>\n",
       "      <td>12252.01</td>\n",
       "      <td>12</td>\n",
       "      <td>158742.15</td>\n",
       "    </tr>\n",
       "    <tr>\n",
       "      <th>4</th>\n",
       "      <td>10049</td>\n",
       "      <td>NaN</td>\n",
       "      <td>NaN</td>\n",
       "      <td>229.17</td>\n",
       "      <td>458.34</td>\n",
       "      <td>427.77</td>\n",
       "      <td>NaN</td>\n",
       "      <td>NaN</td>\n",
       "      <td>NaN</td>\n",
       "      <td>NaN</td>\n",
       "      <td>NaN</td>\n",
       "      <td>NaN</td>\n",
       "      <td>NaN</td>\n",
       "      <td>3</td>\n",
       "      <td>1115.28</td>\n",
       "    </tr>\n",
       "    <tr>\n",
       "      <th>...</th>\n",
       "      <td>...</td>\n",
       "      <td>...</td>\n",
       "      <td>...</td>\n",
       "      <td>...</td>\n",
       "      <td>...</td>\n",
       "      <td>...</td>\n",
       "      <td>...</td>\n",
       "      <td>...</td>\n",
       "      <td>...</td>\n",
       "      <td>...</td>\n",
       "      <td>...</td>\n",
       "      <td>...</td>\n",
       "      <td>...</td>\n",
       "      <td>...</td>\n",
       "      <td>...</td>\n",
       "    </tr>\n",
       "    <tr>\n",
       "      <th>560</th>\n",
       "      <td>104228</td>\n",
       "      <td>NaN</td>\n",
       "      <td>NaN</td>\n",
       "      <td>NaN</td>\n",
       "      <td>NaN</td>\n",
       "      <td>NaN</td>\n",
       "      <td>NaN</td>\n",
       "      <td>NaN</td>\n",
       "      <td>NaN</td>\n",
       "      <td>235.28</td>\n",
       "      <td>331.53</td>\n",
       "      <td>320.84</td>\n",
       "      <td>331.53</td>\n",
       "      <td>4</td>\n",
       "      <td>1219.18</td>\n",
       "    </tr>\n",
       "    <tr>\n",
       "      <th>561</th>\n",
       "      <td>104263</td>\n",
       "      <td>NaN</td>\n",
       "      <td>NaN</td>\n",
       "      <td>NaN</td>\n",
       "      <td>NaN</td>\n",
       "      <td>NaN</td>\n",
       "      <td>NaN</td>\n",
       "      <td>NaN</td>\n",
       "      <td>NaN</td>\n",
       "      <td>427.78</td>\n",
       "      <td>777.78</td>\n",
       "      <td>1322.24</td>\n",
       "      <td>1808.34</td>\n",
       "      <td>4</td>\n",
       "      <td>4336.14</td>\n",
       "    </tr>\n",
       "    <tr>\n",
       "      <th>562</th>\n",
       "      <td>104269</td>\n",
       "      <td>NaN</td>\n",
       "      <td>NaN</td>\n",
       "      <td>NaN</td>\n",
       "      <td>NaN</td>\n",
       "      <td>NaN</td>\n",
       "      <td>NaN</td>\n",
       "      <td>NaN</td>\n",
       "      <td>NaN</td>\n",
       "      <td>NaN</td>\n",
       "      <td>NaN</td>\n",
       "      <td>2625.00</td>\n",
       "      <td>3875.00</td>\n",
       "      <td>2</td>\n",
       "      <td>6500.00</td>\n",
       "    </tr>\n",
       "    <tr>\n",
       "      <th>563</th>\n",
       "      <td>104333</td>\n",
       "      <td>NaN</td>\n",
       "      <td>NaN</td>\n",
       "      <td>NaN</td>\n",
       "      <td>NaN</td>\n",
       "      <td>NaN</td>\n",
       "      <td>NaN</td>\n",
       "      <td>NaN</td>\n",
       "      <td>NaN</td>\n",
       "      <td>NaN</td>\n",
       "      <td>NaN</td>\n",
       "      <td>NaN</td>\n",
       "      <td>81.25</td>\n",
       "      <td>1</td>\n",
       "      <td>81.25</td>\n",
       "    </tr>\n",
       "    <tr>\n",
       "      <th>564</th>\n",
       "      <td>104336</td>\n",
       "      <td>NaN</td>\n",
       "      <td>NaN</td>\n",
       "      <td>NaN</td>\n",
       "      <td>NaN</td>\n",
       "      <td>NaN</td>\n",
       "      <td>NaN</td>\n",
       "      <td>NaN</td>\n",
       "      <td>NaN</td>\n",
       "      <td>NaN</td>\n",
       "      <td>NaN</td>\n",
       "      <td>38.89</td>\n",
       "      <td>241.12</td>\n",
       "      <td>2</td>\n",
       "      <td>280.01</td>\n",
       "    </tr>\n",
       "  </tbody>\n",
       "</table>\n",
       "<p>565 rows × 15 columns</p>\n",
       "</div>"
      ],
      "text/plain": [
       "Mes  Cod_Cliente        01        02        03        04         05        06  \\\n",
       "0              0  34738.30  34064.65  42730.66  53605.79  111911.52  49291.54   \n",
       "1          10017    422.80    395.52    422.80    405.80     319.46    271.07   \n",
       "2          10025  78759.38  73678.13  67467.72  59281.25   80257.30  88714.54   \n",
       "3          10031  18241.87  17146.71  14647.90  11875.15   12251.98  11856.79   \n",
       "4          10049       NaN       NaN    229.17    458.34     427.77       NaN   \n",
       "..           ...       ...       ...       ...       ...        ...       ...   \n",
       "560       104228       NaN       NaN       NaN       NaN        NaN       NaN   \n",
       "561       104263       NaN       NaN       NaN       NaN        NaN       NaN   \n",
       "562       104269       NaN       NaN       NaN       NaN        NaN       NaN   \n",
       "563       104333       NaN       NaN       NaN       NaN        NaN       NaN   \n",
       "564       104336       NaN       NaN       NaN       NaN        NaN       NaN   \n",
       "\n",
       "Mes        07        08         09        10        11         12  \\\n",
       "0    22026.93  55074.52  217580.76  13423.71  58208.68  218764.20   \n",
       "1      267.79    267.79     259.16    282.79    334.16     345.29   \n",
       "2    67323.96  61257.30   59281.25  61257.30  59281.25   63394.59   \n",
       "3    12252.07  12252.01   11856.77  12252.07  11856.82   12252.01   \n",
       "4         NaN       NaN        NaN       NaN       NaN        NaN   \n",
       "..        ...       ...        ...       ...       ...        ...   \n",
       "560       NaN       NaN     235.28    331.53    320.84     331.53   \n",
       "561       NaN       NaN     427.78    777.78   1322.24    1808.34   \n",
       "562       NaN       NaN        NaN       NaN   2625.00    3875.00   \n",
       "563       NaN       NaN        NaN       NaN       NaN      81.25   \n",
       "564       NaN       NaN        NaN       NaN     38.89     241.12   \n",
       "\n",
       "Mes  num_meses_ing_51000  total_51000  \n",
       "0                     12    911421.26  \n",
       "1                     12      3994.43  \n",
       "2                     12    819953.97  \n",
       "3                     12    158742.15  \n",
       "4                      3      1115.28  \n",
       "..                   ...          ...  \n",
       "560                    4      1219.18  \n",
       "561                    4      4336.14  \n",
       "562                    2      6500.00  \n",
       "563                    1        81.25  \n",
       "564                    2       280.01  \n",
       "\n",
       "[565 rows x 15 columns]"
      ]
     },
     "execution_count": 74,
     "metadata": {},
     "output_type": "execute_result"
    }
   ],
   "source": [
    "dfIngIntPL51000ByCli"
   ]
  },
  {
   "cell_type": "markdown",
   "metadata": {},
   "source": [
    "###### PL ingreso por intereses 51997 Interest Income - Overdraft [por sector]"
   ]
  },
  {
   "cell_type": "code",
   "execution_count": 92,
   "metadata": {},
   "outputs": [],
   "source": [
    "dfIngIntPL51997ByCli = dfIngIntPL51997.groupby(['Cod_Cliente', 'Mes'], as_index=False).agg({'Id_Cliente': 'first','Ingreso': 'sum',})"
   ]
  },
  {
   "cell_type": "code",
   "execution_count": 93,
   "metadata": {},
   "outputs": [],
   "source": [
    "dfIngIntPL51997ByCli = dfIngIntPL51997ByCli.pivot_table(index=['Cod_Cliente'], columns='Mes', values='Ingreso').reset_index()"
   ]
  },
  {
   "cell_type": "code",
   "execution_count": 94,
   "metadata": {},
   "outputs": [],
   "source": [
    "dfIngIntPL51997ByCli['num_meses_ing_51997'] = dfIngIntPL51997ByCli.apply(lambda x: x.iloc[1:] .count(), axis=1)\n",
    "dfIngIntPL51997ByCli['total_51997'] = dfIngIntPL51997ByCli.apply(lambda x: x.iloc[1:-1] .sum(), axis=1)"
   ]
  },
  {
   "cell_type": "code",
   "execution_count": 95,
   "metadata": {},
   "outputs": [
    {
     "data": {
      "text/html": [
       "<div>\n",
       "<style scoped>\n",
       "    .dataframe tbody tr th:only-of-type {\n",
       "        vertical-align: middle;\n",
       "    }\n",
       "\n",
       "    .dataframe tbody tr th {\n",
       "        vertical-align: top;\n",
       "    }\n",
       "\n",
       "    .dataframe thead th {\n",
       "        text-align: right;\n",
       "    }\n",
       "</style>\n",
       "<table border=\"1\" class=\"dataframe\">\n",
       "  <thead>\n",
       "    <tr style=\"text-align: right;\">\n",
       "      <th>Mes</th>\n",
       "      <th>Cod_Cliente</th>\n",
       "      <th>01</th>\n",
       "      <th>02</th>\n",
       "      <th>03</th>\n",
       "      <th>04</th>\n",
       "      <th>05</th>\n",
       "      <th>06</th>\n",
       "      <th>07</th>\n",
       "      <th>08</th>\n",
       "      <th>09</th>\n",
       "      <th>10</th>\n",
       "      <th>11</th>\n",
       "      <th>12</th>\n",
       "      <th>num_meses_ing_51997</th>\n",
       "      <th>total_51997</th>\n",
       "    </tr>\n",
       "  </thead>\n",
       "  <tbody>\n",
       "    <tr>\n",
       "      <th>0</th>\n",
       "      <td>0</td>\n",
       "      <td>-9875.08</td>\n",
       "      <td>-5852.15</td>\n",
       "      <td>-9912.51</td>\n",
       "      <td>-3777.62</td>\n",
       "      <td>-4245.6</td>\n",
       "      <td>-6197.33</td>\n",
       "      <td>-2571.59</td>\n",
       "      <td>-4938.85</td>\n",
       "      <td>-1744.29</td>\n",
       "      <td>-2773.04</td>\n",
       "      <td>-2060.0</td>\n",
       "      <td>-5765.25</td>\n",
       "      <td>12</td>\n",
       "      <td>-59713.31</td>\n",
       "    </tr>\n",
       "  </tbody>\n",
       "</table>\n",
       "</div>"
      ],
      "text/plain": [
       "Mes  Cod_Cliente       01       02       03       04      05       06  \\\n",
       "0              0 -9875.08 -5852.15 -9912.51 -3777.62 -4245.6 -6197.33   \n",
       "\n",
       "Mes       07       08       09       10      11       12  num_meses_ing_51997  \\\n",
       "0   -2571.59 -4938.85 -1744.29 -2773.04 -2060.0 -5765.25                   12   \n",
       "\n",
       "Mes  total_51997  \n",
       "0      -59713.31  "
      ]
     },
     "execution_count": 95,
     "metadata": {},
     "output_type": "execute_result"
    }
   ],
   "source": [
    "dfIngIntPL51997ByCli"
   ]
  }
 ],
 "metadata": {
  "kernelspec": {
   "display_name": "Python 3",
   "language": "python",
   "name": "python3"
  },
  "language_info": {
   "codemirror_mode": {
    "name": "ipython",
    "version": 3
   },
   "file_extension": ".py",
   "mimetype": "text/x-python",
   "name": "python",
   "nbconvert_exporter": "python",
   "pygments_lexer": "ipython3",
   "version": "3.7.6"
  }
 },
 "nbformat": 4,
 "nbformat_minor": 4
}
